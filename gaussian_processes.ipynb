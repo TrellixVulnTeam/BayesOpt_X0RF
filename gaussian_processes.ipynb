{
 "cells": [
  {
   "cell_type": "markdown",
   "metadata": {},
   "source": [
    "# Gaussian Processes and Gaussian Process Regression\n",
    "\n",
    "This notebook will walk through the key mathematical details required to understand what a Gaussian Process is and how Gaussian Process Regression works.\n"
   ]
  },
  {
   "cell_type": "code",
   "execution_count": 58,
   "metadata": {},
   "outputs": [],
   "source": [
    "import numpy as np\n",
    "import seaborn as sns\n",
    "import matplotlib.pyplot as plt\n",
    "from scipy.stats import binom, beta\n",
    "\n",
    "sns.set(rc = {'figure.figsize':(8,4)})"
   ]
  },
  {
   "cell_type": "markdown",
   "metadata": {},
   "source": [
    "Just as a multivariate normal distribution is completely specified by a mean vector and covariance matrix, a Gaussian Process is fully specified by a mean function and a covariance function\n",
    "\n",
    "$$p(x) \\sim \\mathcal{GP}(m(x), k(x,x'))$$\n",
    "\n",
    "For example, take the mean function equal to 0 and the squared exponential covariance function\n",
    "\n",
    "$$m(x) = 0$$\n",
    "$$k(x,x') = \\theta_1 \\cdot exp \\left(- \\frac{\\theta_2}{2}(x - x')^2 \\right)$$\n",
    "\n",
    "It turns out that most of the learning in the GP involves the covariance function and its hyperparameters, so very little is gained in specifying a complicated mean function. It is common to take a mean function of 0 as the prior and rely completely on the covariance function for learning.\n",
    "\n",
    "Let's walk through a Gaussian Process Regression example using the prior GP we just defined above. First we define the mean and covariance functions. We will start with hyperpareters $\\sigma_0 = 1$, $\\sigma_1=10$. Moreover, we may take the standard deviation at x-value to be $1$."
   ]
  },
  {
   "cell_type": "code",
   "execution_count": 137,
   "metadata": {},
   "outputs": [
    {
     "data": {
      "image/png": "[encoded data removed]",
      "text/plain": [
       "<Figure size 576x288 with 1 Axes>"
      ]
     },
     "metadata": {},
     "output_type": "display_data"
    }
   ],
   "source": [
    "xpts = np.arange(-3, 3, step=0.01)\n",
    "\n",
    "mean_prior = [0 for x in xpts]\n",
    "\n",
    "def exponential_cov(x, y, params):\n",
    "    return params[0] * np.exp(-0.5 * params[1] * np.subtract.outer(x,y)**2)\n",
    "\n",
    "theta = [1, 10]\n",
    "\n",
    "sigmas_0 = [exponential_cov(x, x, theta) for x in xpts]\n",
    "\n",
    "sns.set()\n",
    "plt.plot(xpts, mean_prior, label=\"mean\");\n",
    "stdev_plus = [x + y for x, y in zip(mean_prior, sigmas_0)]\n",
    "stdev_minus = [x - y for x, y in zip(mean_prior, sigmas_0)]\n",
    "plt.fill_between(xpts, stdev_plus, color=\"b\", alpha=0.3);\n",
    "plt.fill_between(xpts, stdev_minus, color=\"b\", alpha=0.3);\n",
    "plt.ylim(-3, 3);\n",
    "plt.xlabel(\"x\");\n",
    "plt.ylabel(\"y\");\n",
    "plt.title(\"Gaussian Process Prior\");"
   ]
  },
  {
   "cell_type": "markdown",
   "metadata": {},
   "source": [
    "We have our first Gaussian Process! At each value of on the x axis, we have a normal distribution in y values. Moreover, the mean and standard deviation for each of these normal distributions is 0 and 1 respectively.\n",
    "\n",
    "Lets take a sample at a random point, say 1, to make our first observation. The default values for np.random.normal() are a mean of 0 and a standard deviation of 1."
   ]
  },
  {
   "cell_type": "code",
   "execution_count": 156,
   "metadata": {},
   "outputs": [
    {
     "name": "stdout",
     "output_type": "stream",
     "text": [
      "[-1.0577834470128864]\n"
     ]
    }
   ],
   "source": [
    "x = [1.]\n",
    "y = [np.random.normal()]\n",
    "print(y)"
   ]
  },
  {
   "cell_type": "markdown",
   "metadata": {},
   "source": [
    "Now we have our first observation, $(1, -1.0578)$. From here, we will need to use some conditioning formulas for multivariate Gaussian Distributions so we can condition our Gaussian Process prior on this observation and obtain our Posterior. The conditioning property of multivariate Gaussian Distributions gives us the following mean and covariance fucntions for $p(x|y)$\n",
    "\n",
    "$$\\mu = \\mu_x + \\Sigma_{xy} \\Sigma_y^{-1}(y - \\mu_y)$$\n",
    "$$\\sigma = \\Sigma_x - \\Sigma_{xy} \\Sigma_y^{-1} \\Sigma_{yx}$$\n",
    "\n",
    "Our first oberservation is $(1, -1.0578)$. We will need to compute the resulting normal distribution at all the remaining points in xpts. To help us understand how that calculation works, let us start with a single unkown point from xpts, say $x=0.7$. We want to know the probability distribution for $y$ at $x=0.7$ given the data we know, by using the formulas above. Let's take $x_0 = 1$ and $x_1 = 0.7$.\n",
    "\n",
    "Remember! Here $x_0$ and $x_1$ represent normal distributions, it is confusing to keep track of this, I know. Moreover, $x_0$ has been observed and no longer represents a normal distribution, we take the value of $-1.0578$ for $x_0$. (yikes)\n",
    "\n",
    "$p(x_1 \\; | \\; x_0)$\n",
    "\n",
    "$\\mu = \\mu_{x_0} + \\Sigma_{x_1 x_0} \\Sigma^{-1}_{x_1}$"
   ]
  },
  {
   "cell_type": "markdown",
   "metadata": {},
   "source": []
  },
  {
   "cell_type": "code",
   "execution_count": 37,
   "metadata": {},
   "outputs": [],
   "source": [
    "def predict(x, data, kernel, params, sigma, t):\n",
    "    # We need to know the variance of the multivariate gaussian 'x', and the 'x_known's in 'data'\n",
    "    # This results in a list of variances that correspond to the 'x_known's in data. This list is\n",
    "    # the vector from a larger unknown covariance matrix that specifically represents the variance\n",
    "    # between the new 'x' and the 'x_known's\n",
    "    k = [kernel(x, x_known, params) for x_known in data]\n",
    "\n",
    "    # Compute inverse of known sigma for computations later\n",
    "    sigma_inv = np.linalg.inv(sigma)\n",
    "\n",
    "    # Our new prediction for 'x' is a gaussian distribution which is specified by a mean and\n",
    "    # variance. The mean and variance below are given by the conditoing propery of multivariate\n",
    "    # Gaussian distributions, p(x_new | known_data) ~ N(y_mean, y_variance), shown below\n",
    "    y_mean = np.dot(k, sigma_inv).dot(t)\n",
    "    y_variance = kernel(x, x, params) - np.dot(k, sigma_inv).dot(k)\n",
    "\n",
    "    return y_mean, y_variance"
   ]
  },
  {
   "cell_type": "code",
   "execution_count": 40,
   "metadata": {},
   "outputs": [],
   "source": [
    "x_pred = 0.9\n",
    "\n",
    "k = [exponential_cov(x_pred, y, theta) for y in x]\n"
   ]
  },
  {
   "cell_type": "code",
   "execution_count": 41,
   "metadata": {},
   "outputs": [
    {
     "data": {
      "text/plain": [
       "[0.951229424500714]"
      ]
     },
     "execution_count": 41,
     "metadata": {},
     "output_type": "execute_result"
    }
   ],
   "source": [
    "k"
   ]
  },
  {
   "cell_type": "code",
   "execution_count": 42,
   "metadata": {},
   "outputs": [],
   "source": [
    "sigma_inv = np.linalg.inv(sigma_1)"
   ]
  },
  {
   "cell_type": "code",
   "execution_count": 43,
   "metadata": {},
   "outputs": [
    {
     "data": {
      "text/plain": [
       "array([[1.]])"
      ]
     },
     "execution_count": 43,
     "metadata": {},
     "output_type": "execute_result"
    }
   ],
   "source": [
    "sigma_inv"
   ]
  },
  {
   "cell_type": "code",
   "execution_count": 46,
   "metadata": {},
   "outputs": [],
   "source": [
    "y_pred = np.dot(k, sigma_inv).dot(y)"
   ]
  },
  {
   "cell_type": "code",
   "execution_count": 47,
   "metadata": {},
   "outputs": [
    {
     "data": {
      "text/plain": [
       "1.583008386221042"
      ]
     },
     "execution_count": 47,
     "metadata": {},
     "output_type": "execute_result"
    }
   ],
   "source": [
    "y_pred"
   ]
  },
  {
   "cell_type": "code",
   "execution_count": 48,
   "metadata": {},
   "outputs": [
    {
     "data": {
      "text/plain": [
       "[1.6641709617550353]"
      ]
     },
     "execution_count": 48,
     "metadata": {},
     "output_type": "execute_result"
    }
   ],
   "source": [
    "y"
   ]
  },
  {
   "cell_type": "code",
   "execution_count": 54,
   "metadata": {},
   "outputs": [
    {
     "data": {
      "text/plain": [
       "1.5809624136672835"
      ]
     },
     "execution_count": 54,
     "metadata": {},
     "output_type": "execute_result"
    }
   ],
   "source": [
    "0.95 * y[0]"
   ]
  },
  {
   "cell_type": "code",
   "execution_count": 55,
   "metadata": {},
   "outputs": [
    {
     "data": {
      "text/plain": [
       "[0.951229424500714]"
      ]
     },
     "execution_count": 55,
     "metadata": {},
     "output_type": "execute_result"
    }
   ],
   "source": [
    "k"
   ]
  },
  {
   "cell_type": "code",
   "execution_count": 56,
   "metadata": {},
   "outputs": [
    {
     "data": {
      "text/plain": [
       "array([0.95122942])"
      ]
     },
     "execution_count": 56,
     "metadata": {},
     "output_type": "execute_result"
    }
   ],
   "source": [
    "np.dot(k, sigma_inv)"
   ]
  },
  {
   "cell_type": "code",
   "execution_count": 57,
   "metadata": {},
   "outputs": [
    {
     "data": {
      "text/plain": [
       "[0.951229424500714]"
      ]
     },
     "execution_count": 57,
     "metadata": {},
     "output_type": "execute_result"
    }
   ],
   "source": [
    "k"
   ]
  },
  {
   "cell_type": "code",
   "execution_count": null,
   "metadata": {},
   "outputs": [],
   "source": []
  }
 ],
 "metadata": {
  "interpreter": {
   "hash": "ab243acf4705a6589a9c5f276b9554dd483096c1fb620dc14745882efe0f4122"
  },
  "kernelspec": {
   "display_name": "Python 3.8.13 ('venv')",
   "language": "python",
   "name": "python3"
  },
  "language_info": {
   "codemirror_mode": {
    "name": "ipython",
    "version": 3
   },
   "file_extension": ".py",
   "mimetype": "text/x-python",
   "name": "python",
   "nbconvert_exporter": "python",
   "pygments_lexer": "ipython3",
   "version": "3.8.13"
  },
  "orig_nbformat": 4
 },
 "nbformat": 4,
 "nbformat_minor": 2
}
