{
 "cells": [
  {
   "cell_type": "markdown",
   "metadata": {},
   "source": [
    "# Gaussian Processes and Gaussian Process Regression\n",
    "\n",
    "This notebook will walk through the key mathematical details required to understand what a Gaussian Process is and how Gaussian Process Regression works.\n"
   ]
  },
  {
   "cell_type": "code",
   "execution_count": 1,
   "metadata": {},
   "outputs": [],
   "source": [
    "import numpy as np\n",
    "import seaborn as sns\n",
    "import matplotlib.pyplot as plt\n",
    "from scipy.stats import binom, beta\n",
    "\n",
    "sns.set(rc = {'figure.figsize':(8,4)})"
   ]
  },
  {
   "cell_type": "markdown",
   "metadata": {},
   "source": [
    "Just as a multivariate normal distribution is completely specified by a mean vector and covariance matrix, a Gaussian Process is fully specified by a mean function and a covariance function\n",
    "\n",
    "$$p(x) \\sim \\mathcal{GP}(m(x), k(x,x'))$$\n",
    "\n",
    "For example, take the mean function equal to 0 and the squared exponential covariance function\n",
    "\n",
    "$$m(x) = 0$$\n",
    "$$k(x,x') = \\theta_1 \\cdot exp \\left(- \\frac{\\theta_2}{2}(x - x')^2 \\right)$$\n",
    "\n",
    "It turns out that most of the learning in the GP involves the covariance function and its hyperparameters, so very little is gained in specifying a complicated mean function. It is common to take a mean function of 0 as the prior and rely completely on the covariance function for learning.\n",
    "\n",
    "Let's walk through a Gaussian Process Regression example using the prior GP we just defined above. First we define the mean and covariance functions. We will start with hyperpareters $\\sigma_0 = 1$, $\\sigma_1=10$. Moreover, we may take the standard deviation at x-value to be $1$."
   ]
  },
  {
   "cell_type": "code",
   "execution_count": 2,
   "metadata": {},
   "outputs": [
    {
     "data": {
      "image/png": "[encoded data removed]",
      "text/plain": [
       "<Figure size 432x288 with 1 Axes>"
      ]
     },
     "metadata": {
      "needs_background": "light"
     },
     "output_type": "display_data"
    }
   ],
   "source": [
    "xpts = np.arange(-3, 3, step=0.01)\n",
    "\n",
    "mean_prior = [0 for x in xpts]\n",
    "\n",
    "def exponential_cov(x, y, params):\n",
    "    return params[0] * np.exp(-0.5 * params[1] * np.subtract.outer(x,y)**2)\n",
    "\n",
    "theta = [1, 10]\n",
    "\n",
    "sigma_0 = exponential_cov(0, 0, theta)\n",
    "\n",
    "sns.set()\n",
    "plt.plot(xpts, mean_prior, label=\"mean\");\n",
    "stdev_plus = [x + sigma_0 for x in mean_prior]\n",
    "stdev_minus = [x - sigma_0 for x in mean_prior]\n",
    "plt.fill_between(xpts, stdev_plus, color=\"b\", alpha=0.3);\n",
    "plt.fill_between(xpts, stdev_minus, color=\"b\", alpha=0.3);\n",
    "plt.ylim(-3, 3);\n",
    "plt.xlabel(\"x\");\n",
    "plt.ylabel(\"y\");\n",
    "plt.title(\"Gaussian Process Prior\");"
   ]
  },
  {
   "cell_type": "markdown",
   "metadata": {},
   "source": [
    "We have our first Gaussian Process! At each value of on the x axis, we have a normal distribution in y values. Moreover, the mean and standard deviation for each of these normal distributions is 0 and 1 respectively.\n",
    "\n",
    "Lets take a sample at a random point, say 1, to make our first observation. The default values for np.random.normal() are a mean of 0 and a standard deviation of 1."
   ]
  },
  {
   "cell_type": "code",
   "execution_count": 9,
   "metadata": {},
   "outputs": [
    {
     "name": "stdout",
     "output_type": "stream",
     "text": [
      "[0.491963042891592]\n"
     ]
    }
   ],
   "source": [
    "x = [1.]\n",
    "y = [np.random.normal()]\n",
    "print(y)\n",
    "\n",
    "# New sigma\n",
    "sigma_1 = exponential_cov(x, x, theta)"
   ]
  },
  {
   "cell_type": "markdown",
   "metadata": {},
   "source": [
    "Now we have our first observation, $(1, -1.0578)$. From here, we will need to use some conditioning formulas for multivariate Gaussian Distributions so we can condition our Gaussian Process prior on this observation and obtain our Posterior. The conditioning property of multivariate Gaussian Distributions gives us the following mean and covariance fucntions for $p(x|y)$\n",
    "\n",
    "$$\\mu = \\mu_x + \\Sigma_{xy} \\Sigma_y^{-1}(y - \\mu_y)$$\n",
    "$$\\sigma = \\Sigma_x - \\Sigma_{xy} \\Sigma_y^{-1} \\Sigma_{yx}$$\n",
    "\n",
    "Our first oberservation is $(1, -1.0578)$. We will need to compute the resulting normal distribution at all the remaining points in xpts. To help us understand how that calculation works, let us start with a single unkown point from xpts, say $x=0.7$. We want to know the probability distribution for $y$ at $x=0.7$ given the data we know, by using the formulas above. Let's take $x_0 = 1$ and $x_1 = 0.7$.\n",
    "\n",
    "Remember! Here $x_0$ and $x_1$ represent normal distributions, it is confusing to keep track of this, I know. Moreover, $x_0$ has been observed and no longer represents a normal distribution, we take the value of $-1.0578$ for $x_0$. (yikes)\n",
    "\n",
    "$p(x_1 \\; | \\; x_0 = -1.0578)$\n",
    "\n",
    "$\\mu = \\mu_{x_1} + \\Sigma_{x_1 x_0} \\Sigma^{-1}_{x_0} (x_0 - \\mu_{x_0})$\n",
    "\n",
    "$\\sigma = \\Sigma_{x_1} - \\Sigma_{x_1 x_0} \\Sigma^{-1}_{x_0} \\Sigma_{x_0 x_1}$\n",
    "\n",
    "Let's calculate this!"
   ]
  },
  {
   "cell_type": "code",
   "execution_count": 10,
   "metadata": {},
   "outputs": [
    {
     "name": "stdout",
     "output_type": "stream",
     "text": [
      "[[0.31368949]] [[0.59343034]]\n"
     ]
    }
   ],
   "source": [
    "# We will need this inverse in our calculations\n",
    "x_0 = x[0]\n",
    "y_0 = y[0]\n",
    "\n",
    "x_1 = 0.7\n",
    "\n",
    "\n",
    "sigma_inv = np.linalg.inv([[exponential_cov(x_1, x_1, theta)]])\n",
    "\n",
    "mu = 0 + np.dot([[exponential_cov(0.7, 1, theta)]], sigma_inv).dot(y_0 - 0)\n",
    "\n",
    "sigma = exponential_cov(x_1, x_1, theta) - np.dot([[exponential_cov(x_1, x_0, theta)]], sigma_inv).dot(exponential_cov(x_0, x_1, theta))\n",
    "\n",
    "print(mu, sigma)"
   ]
  },
  {
   "cell_type": "markdown",
   "metadata": {},
   "source": [
    "Now, lets write a fucntion to do this for us at every point in xpts given our known data."
   ]
  },
  {
   "cell_type": "code",
   "execution_count": 11,
   "metadata": {},
   "outputs": [],
   "source": [
    "def predict(x, data, kernel, params, sigma, t):\n",
    "    # We need to know the variance of the multivariate gaussian 'x', and the 'x_known's in 'data'\n",
    "    # This results in a list of variances that correspond to the 'x_known's in data. This list is\n",
    "    # the vector from a larger unknown covariance matrix that specifically represents the variance\n",
    "    # between the new 'x' and the 'x_known's\n",
    "    k = [kernel(x, x_known, params) for x_known in data]\n",
    "\n",
    "    # Compute inverse of known sigma for computations later\n",
    "    sigma_inv = np.linalg.inv(sigma)\n",
    "\n",
    "    # Our new prediction for 'x' is a gaussian distribution which is specified by a mean and\n",
    "    # variance. The mean and variance below are given by the conditoing propery of multivariate\n",
    "    # Gaussian distributions, p(x_new | known_data) ~ N(y_mean, y_variance), shown below\n",
    "    y_mean = np.dot(k, sigma_inv).dot(t)\n",
    "    y_variance = kernel(x, x, params) - np.dot(k, sigma_inv).dot(k)\n",
    "\n",
    "    return y_mean, y_variance"
   ]
  },
  {
   "cell_type": "code",
   "execution_count": 12,
   "metadata": {},
   "outputs": [],
   "source": [
    "x_pred = np.linspace(-3, 3, 1000)\n",
    "predictions = [predict(i, x, exponential_cov, theta, sigma_1, y) for i in x_pred]\n",
    "y_means, y_sigmas = np.transpose(predictions)\n"
   ]
  },
  {
   "cell_type": "code",
   "execution_count": 14,
   "metadata": {},
   "outputs": [
    {
     "data": {
      "image/png": "[encoded data removed]",
      "text/plain": [
       "<Figure size 432x288 with 1 Axes>"
      ]
     },
     "metadata": {},
     "output_type": "display_data"
    }
   ],
   "source": [
    "sns.set()\n",
    "plt.plot(x_pred, y_means, label=\"mean\");\n",
    "stdev_plus = [y_mean + abs(y_sigma) for y_mean, y_sigma in zip(y_means, y_sigmas)]\n",
    "stdev_minus = [y_mean - y_sigma for y_mean, y_sigma in zip(y_means, y_sigmas)]\n",
    "plt.fill_between(x_pred, y_means, stdev_plus, color=\"b\", alpha=0.3);\n",
    "plt.fill_between(x_pred, y_means, stdev_minus, color=\"b\", alpha=0.3);\n",
    "plt.ylim(-3, 3);\n",
    "plt.xlabel(\"x\");\n",
    "plt.ylabel(\"y\");\n",
    "plt.title(\"Gaussian Process Posterior\");"
   ]
  },
  {
   "cell_type": "code",
   "execution_count": null,
   "metadata": {},
   "outputs": [],
   "source": []
  }
 ],
 "metadata": {
  "interpreter": {
   "hash": "ab243acf4705a6589a9c5f276b9554dd483096c1fb620dc14745882efe0f4122"
  },
  "kernelspec": {
   "display_name": "Python 3.8.13 ('venv')",
   "language": "python",
   "name": "python3"
  },
  "language_info": {
   "codemirror_mode": {
    "name": "ipython",
    "version": 3
   },
   "file_extension": ".py",
   "mimetype": "text/x-python",
   "name": "python",
   "nbconvert_exporter": "python",
   "pygments_lexer": "ipython3",
   "version": "3.8.13"
  },
  "orig_nbformat": 4
 },
 "nbformat": 4,
 "nbformat_minor": 2
}
